{
 "cells": [
  {
   "cell_type": "code",
   "execution_count": 3,
   "id": "831d89e3",
   "metadata": {},
   "outputs": [],
   "source": [
    "import pandas as pd\n",
    "import requests\n"
   ]
  },
  {
   "cell_type": "code",
   "execution_count": 4,
   "id": "ef4d4926",
   "metadata": {},
   "outputs": [],
   "source": [
    "\n",
    "# Define the API endpoint\n",
    "api_url = 'https://jsonplaceholder.typicode.com/posts'\n"
   ]
  },
  {
   "cell_type": "code",
   "execution_count": null,
   "id": "c9cf6781",
   "metadata": {},
   "outputs": [],
   "source": [
    "\n",
    "# Send a GET request to the API\n",
    "response = requests.get(api_url)\n"
   ]
  },
  {
   "cell_type": "code",
   "execution_count": null,
   "id": "1670d6cf",
   "metadata": {},
   "outputs": [],
   "source": [
    "\n",
    "# Check if the request was successful (status code 200)\n",
    "if response.status_code == 200:\n",
    "    # Parse the JSON data from the response\n",
    "    data = response.json()\n",
    "\n",
    "    # Create a Pandas DataFrame from the JSON data\n",
    "    df = pd.DataFrame(data)\n",
    "\n",
    "    # Save the DataFrame to a CSV file\n",
    "    df.to_csv('jsonplaceholder_data.csv', index=False)\n",
    "\n",
    "    print(\"CSV dataset created and saved as 'jsonplaceholder_data.csv'\")\n",
    "else:\n",
    "    print(\"Failed to retrieve data from the API\")"
   ]
  },
  {
   "cell_type": "code",
   "execution_count": null,
   "id": "1e473944",
   "metadata": {},
   "outputs": [],
   "source": []
  },
  {
   "cell_type": "code",
   "execution_count": null,
   "id": "8d2784c7",
   "metadata": {},
   "outputs": [],
   "source": []
  }
 ],
 "metadata": {
  "kernelspec": {
   "display_name": "Python 3 (ipykernel)",
   "language": "python",
   "name": "python3"
  },
  "language_info": {
   "codemirror_mode": {
    "name": "ipython",
    "version": 3
   },
   "file_extension": ".py",
   "mimetype": "text/x-python",
   "name": "python",
   "nbconvert_exporter": "python",
   "pygments_lexer": "ipython3",
   "version": "3.11.3"
  }
 },
 "nbformat": 4,
 "nbformat_minor": 5
}
